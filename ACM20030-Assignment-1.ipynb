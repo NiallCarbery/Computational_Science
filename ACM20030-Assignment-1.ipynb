{
 "cells": [
  {
   "cell_type": "code",
   "execution_count": 7,
   "metadata": {},
   "outputs": [],
   "source": [
    "import numpy as np\n",
    "import matplotlib.pyplot as plt"
   ]
  },
  {
   "cell_type": "markdown",
   "metadata": {},
   "source": [
    "## Question 1\n",
    "\n",
    "VectorLength Function, takes two real or complex numbers and returns magnitude of associated vector. \n",
    "$|v|=\\sqrt{x^2 + y^2}$"
   ]
  },
  {
   "cell_type": "code",
   "execution_count": 8,
   "metadata": {},
   "outputs": [
    {
     "name": "stdout",
     "output_type": "stream",
     "text": [
      "VectorLength(5, 6) = 7.810249675906654\n",
      "VectorLength(-1, 5) = 5.0990195135927845\n"
     ]
    }
   ],
   "source": [
    "#Question 1a)\n",
    "def VectorLength(x ,y):\n",
    "    return np.sqrt(x**2 + y**2)\n",
    "\n",
    "#Question 1b)\n",
    "print(\"VectorLength(5, 6) =\", VectorLength(5,6)) \n",
    "print(\"VectorLength(-1, 5) =\", VectorLength(-1,5))"
   ]
  },
  {
   "cell_type": "code",
   "execution_count": 20,
   "metadata": {},
   "outputs": [
    {
     "name": "stdout",
     "output_type": "stream",
     "text": [
      "Sin(1) =0.841\n"
     ]
    }
   ],
   "source": [
    "#Question 1c)\n",
    "print(\"Sin(1) =%.3f\" % np.sin(1))"
   ]
  }
 ],
 "metadata": {
  "kernelspec": {
   "display_name": "Python 3",
   "language": "python",
   "name": "python3"
  },
  "language_info": {
   "codemirror_mode": {
    "name": "ipython",
    "version": 3
   },
   "file_extension": ".py",
   "mimetype": "text/x-python",
   "name": "python",
   "nbconvert_exporter": "python",
   "pygments_lexer": "ipython3",
   "version": "3.10.12"
  },
  "orig_nbformat": 4
 },
 "nbformat": 4,
 "nbformat_minor": 2
}
