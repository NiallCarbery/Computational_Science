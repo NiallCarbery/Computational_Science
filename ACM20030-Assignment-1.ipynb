{
 "cells": [
  {
   "cell_type": "code",
   "execution_count": 42,
   "metadata": {},
   "outputs": [],
   "source": [
    "import numpy as np\n",
    "import matplotlib.pyplot as plt\n",
    "%matplotlib inline"
   ]
  },
  {
   "cell_type": "markdown",
   "metadata": {},
   "source": [
    "## Question 1\n",
    "\n",
    "VectorLength Function, takes two real or complex numbers and returns magnitude of associated vector. \n",
    "$|v|=\\sqrt{x^2 + y^2}$"
   ]
  },
  {
   "cell_type": "code",
   "execution_count": 43,
   "metadata": {},
   "outputs": [
    {
     "name": "stdout",
     "output_type": "stream",
     "text": [
      "VectorLength(5, 6) = 7.810249675906654\n",
      "VectorLength(-1, 5) = 5.0990195135927845\n"
     ]
    }
   ],
   "source": [
    "# Question 1a)\n",
    "def VectorLength(x ,y):\n",
    "    return np.sqrt(x**2 + y**2)\n",
    "\n",
    "# Question 1b)\n",
    "print(\"VectorLength(5, 6) =\", VectorLength(5,6)) \n",
    "print(\"VectorLength(-1, 5) =\", VectorLength(-1,5))"
   ]
  },
  {
   "cell_type": "code",
   "execution_count": 44,
   "metadata": {},
   "outputs": [
    {
     "name": "stdout",
     "output_type": "stream",
     "text": [
      "Sin(1) =0.841\n"
     ]
    }
   ],
   "source": [
    "# Question 1c)\n",
    "print(\"Sin(1) =%.3f\" % np.sin(1))"
   ]
  },
  {
   "cell_type": "markdown",
   "metadata": {},
   "source": [
    "## Question 2\n",
    "IsPrime functioning?"
   ]
  },
  {
   "cell_type": "code",
   "execution_count": 45,
   "metadata": {},
   "outputs": [
    {
     "name": "stdout",
     "output_type": "stream",
     "text": [
      "1 | 1\n",
      "2 | 1\n",
      "3 | 1\n",
      "4 | 1\n",
      "5 | 1\n",
      "6 | 0\n",
      "7 | 1\n",
      "8 | 0\n",
      "9 | 1\n",
      "10 | 0\n",
      "Function doesnt work properly, 1, 4 and 9 are incorrectly identified as primes\n"
     ]
    }
   ],
   "source": [
    "# Question 2a)\n",
    "# Function to check if a number is prime\n",
    "def IsPrime(n):\n",
    "    i = 2\n",
    "    while i < np.sqrt(n):\n",
    "        # For each i check if it divides n\n",
    "        if (n % i == 0):\n",
    "            return 0\n",
    "        i += 1\n",
    "    # If no divisors are found, the number is prime\n",
    "    return 1\n",
    "\n",
    "for i in range(1,11):\n",
    "    print(i,\"|\", IsPrime(i))\n",
    "    \n",
    "print(\"Function doesnt work properly, 1, 4 and 9 are incorrectly identified as primes\")"
   ]
  },
  {
   "cell_type": "code",
   "execution_count": 46,
   "metadata": {},
   "outputs": [],
   "source": [
    "# Question 2b)\n",
    "def IsPrime1(n):\n",
    "    if n == 1:\n",
    "        return 0\n",
    "    i = 2\n",
    "    while i < np.sqrt(n):\n",
    "        # For each i check if it divides n\n",
    "        if (n % i == 0):\n",
    "            return 0\n",
    "        i += 1\n",
    "    # If no divisors are found, the number is prime\n",
    "    return 1"
   ]
  },
  {
   "cell_type": "code",
   "execution_count": 47,
   "metadata": {},
   "outputs": [],
   "source": [
    "# Question 2c)\n",
    "def FixedIsPrime(n):\n",
    "    if n == 1:\n",
    "        return 0\n",
    "    i = 2\n",
    "    while i <= np.sqrt(n):\n",
    "        # For each i check if it divides n\n",
    "        if (n % i == 0):\n",
    "            #Debugging print(i)\n",
    "            return 0\n",
    "        i += 1\n",
    "    # If no divisors are found, the number is prime\n",
    "    return 1\n",
    "\n",
    "# Function was broken in inital cases were where i = np.sqrt(n): i.e. (2 < np.sqrt(4)), (3 < np.sqrt(9))\n",
    "# function was fixed by including these cases, i.e. while i <= np.sqrt(n)\n",
    "\n",
    "#Testing\n",
    "#for i in range(1,11):\n",
    "#   print(i,\"|\", FixedIsPrime(i))"
   ]
  },
  {
   "cell_type": "code",
   "execution_count": 48,
   "metadata": {},
   "outputs": [
    {
     "name": "stdout",
     "output_type": "stream",
     "text": [
      "168  primes less than 1000\n"
     ]
    }
   ],
   "source": [
    "# Question 2e)\n",
    "\n",
    "count = 0\n",
    "\n",
    "for i in range(1,1000):\n",
    "    if FixedIsPrime(i) == 1:\n",
    "        count += 1\n",
    "\n",
    "print(count, \" primes less than 1000\")"
   ]
  },
  {
   "cell_type": "code",
   "execution_count": 49,
   "metadata": {},
   "outputs": [
    {
     "name": "stdout",
     "output_type": "stream",
     "text": [
      "PrimeCount(1000) = 168\n",
      "PrimeCount(10000) = 1229\n"
     ]
    }
   ],
   "source": [
    "# Question 2f)\n",
    "\n",
    "def PrimeCount(x):\n",
    "    counter = 0\n",
    "    for i in range(1,x):\n",
    "        if FixedIsPrime(i) == 1:\n",
    "            counter += 1\n",
    "    return counter\n",
    "\n",
    "print(\"PrimeCount(1000) =\", PrimeCount(1000))\n",
    "print(\"PrimeCount(10000) =\", PrimeCount(10000))"
   ]
  },
  {
   "cell_type": "code",
   "execution_count": 50,
   "metadata": {},
   "outputs": [
    {
     "data": {
      "text/plain": [
       "[<matplotlib.lines.Line2D at 0x7f8afb14a7a0>]"
      ]
     },
     "execution_count": 50,
     "metadata": {},
     "output_type": "execute_result"
    },
    {
     "data": {
      "image/png": "[encoded data removed]",
      "text/plain": [
       "<Figure size 640x480 with 1 Axes>"
      ]
     },
     "metadata": {},
     "output_type": "display_data"
    }
   ],
   "source": [
    "# Question 2g)\n",
    "\n",
    "x = np.arange(0,40,1)\n",
    "Pi = np.zeros(40)\n",
    "\n",
    "plt.grid(True)\n",
    "plt.xlabel(\"x\")\n",
    "plt.ylabel(\"Pi(x)\")\n",
    "\n",
    "i = 0\n",
    "while i < np.size(Pi):\n",
    "    Pi[i] = PrimeCount(i)\n",
    "    i += 1\n",
    "\n",
    "plt.plot(x, Pi, 'ro')"
   ]
  },
  {
   "cell_type": "markdown",
   "metadata": {},
   "source": [
    "## Question 3\n",
    "Using PowerLawOrExponetial.txt"
   ]
  },
  {
   "cell_type": "code",
   "execution_count": 51,
   "metadata": {},
   "outputs": [
    {
     "data": {
      "text/plain": [
       "[<matplotlib.lines.Line2D at 0x7f8afb1d2860>]"
      ]
     },
     "execution_count": 51,
     "metadata": {},
     "output_type": "execute_result"
    },
    {
     "data": {
      "image/png": "[encoded data removed]",
      "text/plain": [
       "<Figure size 640x480 with 1 Axes>"
      ]
     },
     "metadata": {},
     "output_type": "display_data"
    }
   ],
   "source": [
    "#Question 3b)\n",
    "data = np.loadtxt(\"/home/niall/ACM20030/assignments-2023-24-NiallCarbery/PowerLawOrExponential.txt\")\n",
    "x = data[:,0]\n",
    "y = data[:,1]\n",
    "\n",
    "#log-log graph\n",
    "plt.xlabel(\"log(x)\")\n",
    "plt.ylabel(\"log(y)\")\n",
    "plt.grid(True)\n",
    "plt.plot(np.log(x),np.log(y))"
   ]
  },
  {
   "cell_type": "code",
   "execution_count": 52,
   "metadata": {},
   "outputs": [
    {
     "data": {
      "text/plain": [
       "[<matplotlib.lines.Line2D at 0x7f8afaf3a7a0>]"
      ]
     },
     "execution_count": 52,
     "metadata": {},
     "output_type": "execute_result"
    },
    {
     "data": {
      "image/png": "[encoded data removed]",
      "text/plain": [
       "<Figure size 640x480 with 1 Axes>"
      ]
     },
     "metadata": {},
     "output_type": "display_data"
    }
   ],
   "source": [
    "# Question 3c)\n",
    "#log graph\n",
    "plt.xlabel(\"x\")\n",
    "plt.ylabel(\"log(y)\")\n",
    "plt.grid(True)\n",
    "plt.plot(x,np.log(y))"
   ]
  },
  {
   "cell_type": "markdown",
   "metadata": {},
   "source": [
    "Question 3d)\n",
    " - The data is a repersentation of a Power Law function because it looks straight on a log-log plot.\n",
    "\n",
    "Question 3e)\n",
    "- The n of $x^n$ can be calucalted by finding the slop of the log-log plot. n is calculated as n = 4/2 = 2"
   ]
  }
 ],
 "metadata": {
  "kernelspec": {
   "display_name": "Python 3",
   "language": "python",
   "name": "python3"
  },
  "language_info": {
   "codemirror_mode": {
    "name": "ipython",
    "version": 3
   },
   "file_extension": ".py",
   "mimetype": "text/x-python",
   "name": "python",
   "nbconvert_exporter": "python",
   "pygments_lexer": "ipython3",
   "version": "3.10.12"
  },
  "orig_nbformat": 4
 },
 "nbformat": 4,
 "nbformat_minor": 2
}
