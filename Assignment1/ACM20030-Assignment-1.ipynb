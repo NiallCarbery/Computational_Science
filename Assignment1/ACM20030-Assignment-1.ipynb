{
 "cells": [
  {
   "cell_type": "markdown",
   "metadata": {},
   "source": [
    "## Niall Carbery 22380966"
   ]
  },
  {
   "cell_type": "code",
   "execution_count": 1,
   "metadata": {},
   "outputs": [],
   "source": [
    "import numpy as np\n",
    "import matplotlib.pyplot as plt\n",
    "%matplotlib inline"
   ]
  },
  {
   "cell_type": "markdown",
   "metadata": {},
   "source": [
    "## Question 1\n",
    "\n",
    "VectorLength Function, takes two real or complex numbers and returns magnitude of associated vector. \n",
    "$|v|=\\sqrt{x^2 + y^2}$"
   ]
  },
  {
   "cell_type": "code",
   "execution_count": 2,
   "metadata": {},
   "outputs": [
    {
     "name": "stdout",
     "output_type": "stream",
     "text": [
      "VectorLength(5, 6) = 7.810249675906654\n",
      "VectorLength(-1, 5) = 5.0990195135927845\n"
     ]
    }
   ],
   "source": [
    "# Question 1a)\n",
    "def VectorLength(x ,y):\n",
    "    return np.sqrt(x**2 + y**2)\n",
    "\n",
    "# Question 1b)\n",
    "print(\"VectorLength(5, 6) =\", VectorLength(5,6)) \n",
    "print(\"VectorLength(-1, 5) =\", VectorLength(-1,5))"
   ]
  },
  {
   "cell_type": "code",
   "execution_count": 3,
   "metadata": {},
   "outputs": [
    {
     "name": "stdout",
     "output_type": "stream",
     "text": [
      "Sin(1) =0.841\n"
     ]
    }
   ],
   "source": [
    "# Question 1c)\n",
    "print(\"Sin(1) =%.3f\" % np.sin(1))"
   ]
  },
  {
   "cell_type": "markdown",
   "metadata": {},
   "source": [
    "## Question 2\n",
    "IsPrime functioning?"
   ]
  },
  {
   "cell_type": "code",
   "execution_count": 4,
   "metadata": {},
   "outputs": [
    {
     "name": "stdout",
     "output_type": "stream",
     "text": [
      "1 | 1\n",
      "2 | 1\n",
      "3 | 1\n",
      "4 | 1\n",
      "5 | 1\n",
      "6 | 0\n",
      "7 | 1\n",
      "8 | 0\n",
      "9 | 1\n",
      "10 | 0\n",
      "Function doesnt work properly, 1, 4 and 9 are incorrectly identified as primes\n"
     ]
    }
   ],
   "source": [
    "# Question 2a)\n",
    "# Function to check if a number is prime\n",
    "def IsPrime(n):\n",
    "    i = 2\n",
    "    while i < np.sqrt(n):\n",
    "        # For each i check if it divides n\n",
    "        if (n % i == 0):\n",
    "            return 0\n",
    "        i += 1\n",
    "    # If no divisors are found, the number is prime\n",
    "    return 1\n",
    "\n",
    "for i in range(1,11):\n",
    "    print(i,\"|\", IsPrime(i))\n",
    "    \n",
    "print(\"Function doesnt work properly, 1, 4 and 9 are incorrectly identified as primes\")"
   ]
  },
  {
   "cell_type": "code",
   "execution_count": 5,
   "metadata": {},
   "outputs": [],
   "source": [
    "# Question 2b)\n",
    "def IsPrime1(n):\n",
    "    if n == 1:\n",
    "        return 0\n",
    "    i = 2\n",
    "    while i < np.sqrt(n):\n",
    "        # For each i check if it divides n\n",
    "        if (n % i == 0):\n",
    "            return 0\n",
    "        i += 1\n",
    "    # If no divisors are found, the number is prime\n",
    "    return 1"
   ]
  },
  {
   "cell_type": "code",
   "execution_count": 6,
   "metadata": {},
   "outputs": [],
   "source": [
    "# Question 2c)\n",
    "def FixedIsPrime(n):\n",
    "    if n == 1:\n",
    "        return 0\n",
    "    i = 2\n",
    "    while i <= np.sqrt(n):\n",
    "        # For each i check if it divides n\n",
    "        if (n % i == 0):\n",
    "            #Debugging print(i)\n",
    "            return 0\n",
    "        i += 1\n",
    "    # If no divisors are found, the number is prime\n",
    "    return 1\n",
    "\n",
    "# Function was broken in inital cases were where i = np.sqrt(n): i.e. (2 < np.sqrt(4)), (3 < np.sqrt(9))\n",
    "# function was fixed by including these cases, i.e. while i <= np.sqrt(n)\n",
    "\n",
    "#Testing\n",
    "#for i in range(1,11):\n",
    "#   print(i,\"|\", FixedIsPrime(i))"
   ]
  },
  {
   "cell_type": "code",
   "execution_count": 7,
   "metadata": {},
   "outputs": [
    {
     "name": "stdout",
     "output_type": "stream",
     "text": [
      "168  primes less than 1000\n"
     ]
    }
   ],
   "source": [
    "# Question 2e)\n",
    "\n",
    "count = 0\n",
    "\n",
    "for i in range(1,1000):\n",
    "    if FixedIsPrime(i) == 1:\n",
    "        count += 1\n",
    "\n",
    "print(count, \" primes less than 1000\")"
   ]
  },
  {
   "cell_type": "code",
   "execution_count": 8,
   "metadata": {},
   "outputs": [
    {
     "name": "stdout",
     "output_type": "stream",
     "text": [
      "PrimeCount(1000) = 168\n",
      "PrimeCount(10000) = 1229\n"
     ]
    }
   ],
   "source": [
    "# Question 2f)\n",
    "\n",
    "def PrimeCount(x):\n",
    "    counter = 0\n",
    "    for i in range(1,x):\n",
    "        if FixedIsPrime(i) == 1:\n",
    "            counter += 1\n",
    "    return counter\n",
    "\n",
    "print(\"PrimeCount(1000) =\", PrimeCount(1000))\n",
    "print(\"PrimeCount(10000) =\", PrimeCount(10000))"
   ]
  },
  {
   "cell_type": "code",
   "execution_count": 9,
   "metadata": {},
   "outputs": [
    {
     "data": {
      "text/plain": [
       "[<matplotlib.lines.Line2D at 0x7f3be9e5d1b0>]"
      ]
     },
     "execution_count": 9,
     "metadata": {},
     "output_type": "execute_result"
    },
    {
     "data": {
      "image/png": "[encoded data removed]",
      "text/plain": [
       "<Figure size 640x480 with 1 Axes>"
      ]
     },
     "metadata": {},
     "output_type": "display_data"
    }
   ],
   "source": [
    "# Question 2g)\n",
    "\n",
    "x = np.arange(0,40,1)\n",
    "Pi = np.zeros(40)\n",
    "\n",
    "plt.grid(True)\n",
    "plt.xlabel(\"x\")\n",
    "plt.ylabel(\"Pi(x)\")\n",
    "\n",
    "i = 0\n",
    "while i < np.size(Pi):\n",
    "    Pi[i] = PrimeCount(i)\n",
    "    i += 1\n",
    "\n",
    "plt.plot(x, Pi, 'ro')"
   ]
  },
  {
   "cell_type": "markdown",
   "metadata": {},
   "source": [
    "## Question 3\n",
    "Using PowerLawOrExponetial.txt"
   ]
  },
  {
   "cell_type": "code",
   "execution_count": 10,
   "metadata": {},
   "outputs": [
    {
     "ename": "OSError",
     "evalue": "/home/niall/ACM20030/assignments-2023-24-NiallCarbery/PowerLawOrExponential.txt not found.",
     "output_type": "error",
     "traceback": [
      "\u001b[0;31m---------------------------------------------------------------------------\u001b[0m",
      "\u001b[0;31mOSError\u001b[0m                                   Traceback (most recent call last)",
      "\u001b[1;32m/home/niall/ACM20030/assignments-2023-24-NiallCarbery/Assignment1/ACM20030-Assignment-1.ipynb Cell 14\u001b[0m line \u001b[0;36m2\n\u001b[1;32m      <a href='vscode-notebook-cell://wsl%2Bubuntu/home/niall/ACM20030/assignments-2023-24-NiallCarbery/Assignment1/ACM20030-Assignment-1.ipynb#X16sdnNjb2RlLXJlbW90ZQ%3D%3D?line=0'>1</a>\u001b[0m \u001b[39m#Question 3b)\u001b[39;00m\n\u001b[0;32m----> <a href='vscode-notebook-cell://wsl%2Bubuntu/home/niall/ACM20030/assignments-2023-24-NiallCarbery/Assignment1/ACM20030-Assignment-1.ipynb#X16sdnNjb2RlLXJlbW90ZQ%3D%3D?line=1'>2</a>\u001b[0m data \u001b[39m=\u001b[39m np\u001b[39m.\u001b[39;49mloadtxt(\u001b[39m\"\u001b[39;49m\u001b[39m/home/niall/ACM20030/assignments-2023-24-NiallCarbery/PowerLawOrExponential.txt\u001b[39;49m\u001b[39m\"\u001b[39;49m)\n\u001b[1;32m      <a href='vscode-notebook-cell://wsl%2Bubuntu/home/niall/ACM20030/assignments-2023-24-NiallCarbery/Assignment1/ACM20030-Assignment-1.ipynb#X16sdnNjb2RlLXJlbW90ZQ%3D%3D?line=2'>3</a>\u001b[0m x \u001b[39m=\u001b[39m data[:,\u001b[39m0\u001b[39m]\n\u001b[1;32m      <a href='vscode-notebook-cell://wsl%2Bubuntu/home/niall/ACM20030/assignments-2023-24-NiallCarbery/Assignment1/ACM20030-Assignment-1.ipynb#X16sdnNjb2RlLXJlbW90ZQ%3D%3D?line=3'>4</a>\u001b[0m y \u001b[39m=\u001b[39m data[:,\u001b[39m1\u001b[39m]\n",
      "File \u001b[0;32m/usr/lib/python3/dist-packages/numpy/lib/npyio.py:1067\u001b[0m, in \u001b[0;36mloadtxt\u001b[0;34m(fname, dtype, comments, delimiter, converters, skiprows, usecols, unpack, ndmin, encoding, max_rows, like)\u001b[0m\n\u001b[1;32m   1065\u001b[0m     fname \u001b[39m=\u001b[39m os_fspath(fname)\n\u001b[1;32m   1066\u001b[0m \u001b[39mif\u001b[39;00m _is_string_like(fname):\n\u001b[0;32m-> 1067\u001b[0m     fh \u001b[39m=\u001b[39m np\u001b[39m.\u001b[39;49mlib\u001b[39m.\u001b[39;49m_datasource\u001b[39m.\u001b[39;49mopen(fname, \u001b[39m'\u001b[39;49m\u001b[39mrt\u001b[39;49m\u001b[39m'\u001b[39;49m, encoding\u001b[39m=\u001b[39;49mencoding)\n\u001b[1;32m   1068\u001b[0m     fencoding \u001b[39m=\u001b[39m \u001b[39mgetattr\u001b[39m(fh, \u001b[39m'\u001b[39m\u001b[39mencoding\u001b[39m\u001b[39m'\u001b[39m, \u001b[39m'\u001b[39m\u001b[39mlatin1\u001b[39m\u001b[39m'\u001b[39m)\n\u001b[1;32m   1069\u001b[0m     fh \u001b[39m=\u001b[39m \u001b[39miter\u001b[39m(fh)\n",
      "File \u001b[0;32m/usr/lib/python3/dist-packages/numpy/lib/_datasource.py:193\u001b[0m, in \u001b[0;36mopen\u001b[0;34m(path, mode, destpath, encoding, newline)\u001b[0m\n\u001b[1;32m    156\u001b[0m \u001b[39m\u001b[39m\u001b[39m\"\"\"\u001b[39;00m\n\u001b[1;32m    157\u001b[0m \u001b[39mOpen `path` with `mode` and return the file object.\u001b[39;00m\n\u001b[1;32m    158\u001b[0m \n\u001b[0;32m   (...)\u001b[0m\n\u001b[1;32m    189\u001b[0m \n\u001b[1;32m    190\u001b[0m \u001b[39m\"\"\"\u001b[39;00m\n\u001b[1;32m    192\u001b[0m ds \u001b[39m=\u001b[39m DataSource(destpath)\n\u001b[0;32m--> 193\u001b[0m \u001b[39mreturn\u001b[39;00m ds\u001b[39m.\u001b[39;49mopen(path, mode, encoding\u001b[39m=\u001b[39;49mencoding, newline\u001b[39m=\u001b[39;49mnewline)\n",
      "File \u001b[0;32m/usr/lib/python3/dist-packages/numpy/lib/_datasource.py:533\u001b[0m, in \u001b[0;36mDataSource.open\u001b[0;34m(self, path, mode, encoding, newline)\u001b[0m\n\u001b[1;32m    530\u001b[0m     \u001b[39mreturn\u001b[39;00m _file_openers[ext](found, mode\u001b[39m=\u001b[39mmode,\n\u001b[1;32m    531\u001b[0m                               encoding\u001b[39m=\u001b[39mencoding, newline\u001b[39m=\u001b[39mnewline)\n\u001b[1;32m    532\u001b[0m \u001b[39melse\u001b[39;00m:\n\u001b[0;32m--> 533\u001b[0m     \u001b[39mraise\u001b[39;00m \u001b[39mIOError\u001b[39;00m(\u001b[39m\"\u001b[39m\u001b[39m%s\u001b[39;00m\u001b[39m not found.\u001b[39m\u001b[39m\"\u001b[39m \u001b[39m%\u001b[39m path)\n",
      "\u001b[0;31mOSError\u001b[0m: /home/niall/ACM20030/assignments-2023-24-NiallCarbery/PowerLawOrExponential.txt not found."
     ]
    }
   ],
   "source": [
    "#Question 3b)\n",
    "data = np.loadtxt(\"/home/niall/ACM20030/assignments-2023-24-NiallCarbery/PowerLawOrExponential.txt\")\n",
    "x = data[:,0]\n",
    "y = data[:,1]\n",
    "\n",
    "#log-log graph\n",
    "plt.xlabel(\"log(x)\")\n",
    "plt.ylabel(\"log(y)\")\n",
    "plt.grid(True)\n",
    "plt.plot(np.log(x),np.log(y))"
   ]
  },
  {
   "cell_type": "code",
   "execution_count": null,
   "metadata": {},
   "outputs": [
    {
     "data": {
      "text/plain": [
       "[<matplotlib.lines.Line2D at 0x7f8afaf3a7a0>]"
      ]
     },
     "execution_count": 52,
     "metadata": {},
     "output_type": "execute_result"
    },
    {
     "data": {
      "image/png": "[encoded data removed]",
      "text/plain": [
       "<Figure size 640x480 with 1 Axes>"
      ]
     },
     "metadata": {},
     "output_type": "display_data"
    }
   ],
   "source": [
    "# Question 3c)\n",
    "#log graph\n",
    "plt.xlabel(\"x\")\n",
    "plt.ylabel(\"log(y)\")\n",
    "plt.grid(True)\n",
    "plt.plot(x,np.log(y))"
   ]
  },
  {
   "cell_type": "markdown",
   "metadata": {},
   "source": [
    "Question 3d)\n",
    " - The data is a repersentation of a Power Law function because it looks straight on a log-log plot.\n",
    "\n",
    "Question 3e)\n",
    "- The n of $x^n$ can be calucalted by finding the slop of the log-log plot. n is calculated as n = 4/2 = 2"
   ]
  }
 ],
 "metadata": {
  "kernelspec": {
   "display_name": "Python 3",
   "language": "python",
   "name": "python3"
  },
  "language_info": {
   "codemirror_mode": {
    "name": "ipython",
    "version": 3
   },
   "file_extension": ".py",
   "mimetype": "text/x-python",
   "name": "python",
   "nbconvert_exporter": "python",
   "pygments_lexer": "ipython3",
   "version": "3.10.12"
  },
  "orig_nbformat": 4
 },
 "nbformat": 4,
 "nbformat_minor": 2
}
